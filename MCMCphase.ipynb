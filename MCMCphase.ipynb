{
 "cells": [
  {
   "cell_type": "code",
   "execution_count": 1,
   "id": "9286de7f-83b2-4dba-8f48-5e0e45a8591a",
   "metadata": {},
   "outputs": [],
   "source": [
    "import numpy as np\n",
    "from scipy.special import gamma as gamma_function\n",
    "from scipy.optimize import minimize\n",
    "from scipy.stats import gamma\n",
    "import matplotlib.pyplot as plt\n",
    "import pydtmc as mc\n",
    "from scipy.linalg import expm\n",
    "import pandas as pd\n",
    "df = pd.read_csv('ACTSC 966/autoclaims.csv')\n",
    "data = df[[\"PAID\"]].sort_values(by=\"PAID\").reset_index(drop=True).to_numpy()[int(0.2*len(df)):-int(0.05*len(df))]\n",
    "data /= 1000"
   ]
  },
  {
   "cell_type": "code",
   "execution_count": 17,
   "id": "11e94274-4ff1-4feb-b652-d188b680f86b",
   "metadata": {},
   "outputs": [
    {
     "name": "stdout",
     "output_type": "stream",
     "text": [
      "CPU times: user 4.71 s, sys: 2.26 s, total: 6.97 s\n",
      "Wall time: 644 ms\n"
     ]
    }
   ],
   "source": [
    "%%time\n",
    "\n",
    "m = 10\n",
    "beta = np.random.random(m)\n",
    "pi = np.random.dirichlet(beta)\n",
    "v_i0 = np.random.uniform(size=m)\n",
    "v_ij = np.random.uniform(size=(m,m))\n",
    "xi = np.random.uniform(size=m)\n",
    "\n",
    "t = [np.random.gamma(shape = v_i0[i],scale = 1/xi[i]) for i in range(m)]\n",
    "T = [[np.random.gamma(shape = v_ij[i][j],scale = 1/xi[i]) for i in range(m)] for j in range(m)]\n",
    "T_ = np.zeros((m+1,m+1))\n",
    "t.append(0)\n",
    "\n",
    "for i in range(m+1):\n",
    "    for j in range(m+1):\n",
    "        if j != m:\n",
    "            if i != j:\n",
    "                T_[i][j] = np.random.gamma(shape = v_ij[i-1][j-1],scale = 1/xi[i-1])\n",
    "T_ = T_.T\n",
    "T_[m] = t\n",
    "T_ = T_.T\n",
    "T_[m] = np.zeros(m+1)\n",
    "for i in range(m+1):\n",
    "    T_[i][i] = -sum(T_[i][:-1])\n",
    "T = T_\n",
    "MHN = 1\n",
    "for _ in range(MHN):\n",
    "    g = np.random.Generator(np.random.PCG64())\n",
    "    n = data.shape[0]\n",
    "    dat = data[g.choice(n, 100, replace=False)]\n",
    "    dt = 0.5*min(dat)[0]\n",
    "    for x in dat:\n",
    "        pi = np.random.dirichlet(beta)\n",
    "        t = [np.random.gamma(shape = v_i0[i],scale = 1/xi[i]) for i in range(m)]\n",
    "        T = [[np.random.gamma(shape = v_ij[i][j],scale = 1/xi[i]) for i in range(m)] for j in range(m)]\n",
    "        T_ = np.zeros((m+1,m+1))\n",
    "        t.append(0)\n",
    "        for i in range(m+1):\n",
    "            for j in range(m+1):\n",
    "                if j != m:\n",
    "                    if i != j:\n",
    "                        T_[i][j] = np.random.gamma(shape = v_ij[i-1][j-1],scale = 1/xi[i-1])\n",
    "        T_ = T_.T\n",
    "        T_[m] = t\n",
    "        T_ = T_.T\n",
    "        T_[m] = np.zeros(m+1)\n",
    "        for i in range(m+1):\n",
    "            T_[i][i] = -sum(T_[i][:-1])\n",
    "        T = T_\n",
    "        P = expm(np.array(T)*dt)\n",
    "        P = P / P.sum(axis=1, keepdims=True)\n",
    "        ch = mc.MarkovChain(p=P)\n",
    "        done = False\n",
    "        while not done:\n",
    "            X = ch.simulate(int(x[0]/dt),np.random.choice(a=[v for v in range(m)],p=pi))\n",
    "            if X[-1] != str(m+1):\n",
    "                done = True\n",
    "        \n",
    "        done = False\n",
    "        while not done:\n",
    "            Y = ch.simulate(int(x[0]/dt),np.random.choice(a=[v for v in range(m)],p=pi))\n",
    "            if Y[-1] != str(m+1):\n",
    "                done = True\n",
    "        \n",
    "        if np.random.uniform() < min(1, t[int(Y[-1])-1]/t[int(X[-1])-1]):\n",
    "            J = [int(y) for y in Y]\n",
    "        else:\n",
    "            J = [int(x) for x in X]\n",
    "        \n",
    "        Bi = [int(J[0]-1 == i) for i in range(m)]\n",
    "        Zi = np.zeros(m)\n",
    "        for v in J:\n",
    "            Zi[v-1] += 1\n",
    "        Zi *= dt\n",
    "        \n",
    "        Nij = np.zeros((m,m))\n",
    "        for x in range(len(J[:-1])):\n",
    "            if J[x + 1] != J[x]:\n",
    "                Nij[J[x]-1][J[x+1]-1] += 1\n",
    "        Ni0 = np.zeros(m)\n",
    "        Ni0[J[-2]-1] = 1\n",
    "        \n",
    "        Nij, Zi, Bi\n",
    "        beta += Bi\n",
    "        v_i0 += Ni0\n",
    "        v_ij += Nij\n",
    "        xi += Zi\n",
    "        \n",
    "    #if _ % int(MHN/4) == 0:\n",
    "        #print(beta,'\\n', v_i0,'\\n', v_ij,'\\n', xi)\n",
    "beta_star = beta\n",
    "v_i0_star = v_i0\n",
    "v_ij_star = v_ij\n",
    "xi_star = xi"
   ]
  },
  {
   "cell_type": "code",
   "execution_count": null,
   "id": "a0e51da2-8799-48dc-9335-389b77c6f708",
   "metadata": {},
   "outputs": [],
   "source": []
  },
  {
   "cell_type": "code",
   "execution_count": 28,
   "id": "6a161798-c855-4c38-a939-5c2e099f6f05",
   "metadata": {},
   "outputs": [],
   "source": [
    "d=100\n",
    "PDF = np.zeros(d)\n",
    "K = 10\n",
    "mn = min(data)\n",
    "mx = max(data)\n",
    "X = np.linspace(mn,mx,d)\n",
    "\n",
    "\n",
    "for k in range(K):        \n",
    "    pi = np.random.dirichlet(beta)\n",
    "    t = [np.random.gamma(shape = v_i0[i],scale = 1/xi[i]) for i in range(m)]\n",
    "    #T = [[np.random.gamma(shape = v_ij[i][j],scale = 1/xi[i]) for i in range(m)] for j in range(m)]\n",
    "    T_ = np.zeros((m+1,m+1))\n",
    "    t.append(0)\n",
    "    for i in range(m+1):\n",
    "        for j in range(m+1):\n",
    "            if j != m:\n",
    "                if i != j:\n",
    "                    T_[i][j] = np.random.gamma(shape = v_ij[i-1][j-1],scale = 1/xi[i-1])\n",
    "    T_ = T_.T\n",
    "    T_[m] = t\n",
    "    T_ = T_.T\n",
    "    T_[m] = np.zeros(m+1)\n",
    "    for i in range(m+1):\n",
    "        T_[i][i] = -sum(T_[i])\n",
    "    #print(T_)\n",
    "    PDF += np.array([pi@expm(np.array(T_.T[:-1].T[:-1])*x)@t[:-1] for x in X])/K"
   ]
  },
  {
   "cell_type": "code",
   "execution_count": 29,
   "id": "595a80da-a8e4-40b4-be1b-aff53278ed34",
   "metadata": {},
   "outputs": [
    {
     "data": {
      "image/png": "[encoded data removed]",
      "text/plain": [
       "<Figure size 640x480 with 1 Axes>"
      ]
     },
     "metadata": {},
     "output_type": "display_data"
    }
   ],
   "source": [
    "plt.hist(data, bins = 100, density=True)\n",
    "plt.plot(X, PDF)\n",
    "#plt.plot(X,e(X))\n",
    "plt.show()"
   ]
  },
  {
   "cell_type": "code",
   "execution_count": 14,
   "id": "968cf923-0d97-48d8-9ae8-21fcac40f71c",
   "metadata": {},
   "outputs": [],
   "source": [
    "th = np.mean(data)\n",
    "def e(x):\n",
    "    return np.exp(-x/th)/th"
   ]
  },
  {
   "cell_type": "code",
   "execution_count": null,
   "id": "2f64733a-73e6-4c2d-9db8-28479a71af6b",
   "metadata": {},
   "outputs": [],
   "source": []
  }
 ],
 "metadata": {
  "kernelspec": {
   "display_name": "Python 3 (ipykernel)",
   "language": "python",
   "name": "python3"
  },
  "language_info": {
   "codemirror_mode": {
    "name": "ipython",
    "version": 3
   },
   "file_extension": ".py",
   "mimetype": "text/x-python",
   "name": "python",
   "nbconvert_exporter": "python",
   "pygments_lexer": "ipython3",
   "version": "3.11.6"
  }
 },
 "nbformat": 4,
 "nbformat_minor": 5
}
